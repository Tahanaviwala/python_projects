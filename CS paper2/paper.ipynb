{
 "cells": [
  {
   "cell_type": "code",
   "execution_count": 1,
   "metadata": {},
   "outputs": [],
   "source": [
    "students = [\"john\" , \"kevin\" , \"harry\" , \"jack\" , \"tim\"]"
   ]
  },
  {
   "cell_type": "code",
   "execution_count": 2,
   "metadata": {},
   "outputs": [],
   "source": [
    "file = open(\"book.txt\", \"r\")"
   ]
  },
  {
   "cell_type": "code",
   "execution_count": 3,
   "metadata": {},
   "outputs": [],
   "source": [
    "contents = file.read()"
   ]
  },
  {
   "cell_type": "code",
   "execution_count": 4,
   "metadata": {},
   "outputs": [],
   "source": [
    "file.close()"
   ]
  },
  {
   "cell_type": "code",
   "execution_count": 5,
   "metadata": {},
   "outputs": [
    {
     "name": "stdout",
     "output_type": "stream",
     "text": [
      "The History of Tom Jones, a Foundling - Henry Fielding - 1749\n",
      "Pride and Prejudice - Jane Austen - 1813\n",
      "The Red and the Black - Stendhal - 1830\n",
      "Le Pere Goriot - Honore de Balzac - 1819\n",
      "David Copperfield - Charles Dickens - 1850\n",
      "Madame Bovary - Gustave Flaubert - 1856\n",
      "Moby-Dick - Herman Melville - 1851\n",
      "Wuthering Heights - Emily Bronte - 1847\n",
      "The Brothers Karamazov - Dostoevsky - 1880\n",
      "War and Peace - Tolstoy - 1869\n"
     ]
    }
   ],
   "source": [
    "print(contents)"
   ]
  },
  {
   "cell_type": "code",
   "execution_count": 6,
   "metadata": {},
   "outputs": [
    {
     "name": "stdout",
     "output_type": "stream",
     "text": [
      "The History of Tom Jones, a Foundling - Henry Fielding - 1749\n",
      "\n"
     ]
    }
   ],
   "source": [
    "contents = open(\"book.txt\", \"r\")\n",
    "print(contents.readline())"
   ]
  },
  {
   "cell_type": "code",
   "execution_count": 76,
   "metadata": {},
   "outputs": [
    {
     "name": "stdout",
     "output_type": "stream",
     "text": [
      "The History of Tom Jones, a Foundling - Henry Fielding \n",
      "\n",
      "Pride and Prejudice - Jane Austen\n",
      "\n",
      "The Red and the Black - Stendhal\n",
      "\n",
      "Le Pere Goriot - Honore de Balzac\n",
      "\n",
      "David Copperfield - Charles Dickens\n",
      "\n",
      "Madame Bovary - Gustave Flaubert\n",
      "\n",
      "Moby-Dick - Herman Melville\n",
      "\n",
      "Wuthering Heights - Emily Bronte \n",
      "\n",
      "The Brothers Karamazov - Dostoevsky\n",
      "\n",
      "War and Peace - Tolstoy\n"
     ]
    }
   ],
   "source": [
    "with open('book.txt') as f:\n",
    "    lines = f.readlines()\n",
    "for line in lines:\n",
    "    print(line)"
   ]
  },
  {
   "cell_type": "code",
   "execution_count": 77,
   "metadata": {},
   "outputs": [
    {
     "name": "stdout",
     "output_type": "stream",
     "text": [
      "Line No: 4\n",
      "David Copperfield - Charles Dickens\n",
      "\n"
     ]
    }
   ],
   "source": [
    "def readline():\n",
    "    lineNo = int(input(\"Line No: \"))\n",
    "    lines = open(\"book.txt\", \"r\").readlines()[lineNo]\n",
    "    return print(lines)\n",
    "    file.close()\n",
    "readline()"
   ]
  },
  {
   "cell_type": "code",
   "execution_count": 73,
   "metadata": {},
   "outputs": [
    {
     "name": "stdout",
     "output_type": "stream",
     "text": [
      "Book Name: a\n",
      "Author name: b\n",
      "Publication year: 4\n",
      "The History of Tom Jones, a Foundling - Henry Fielding - 1749\n",
      "Pride and Prejudice - Jane Austen - 1813\n",
      "The Red and the Black - Stendhal - 1830\n",
      "Le Pere Goriot - Honore de Balzac - 1819\n",
      "David Copperfield - Charles Dickens - 1850\n",
      "Madame Bovary - Gustave Flaubert - 1856\n",
      "Moby-Dick - Herman Melville - 1851\n",
      "Wuthering Heights - Emily Bronte - 1847\n",
      "The Brothers Karamazov - Dostoevsky - 1880\n",
      "War and Peace - Tolstoy - 1869\n",
      "a - b - 4\n"
     ]
    }
   ],
   "source": [
    "def addbook():\n",
    "    bookname = input(\"Book Name: \")\n",
    "    authname = input(\"Author name: \")\n",
    "    pubdate = int(input(\"Publication year: \"))\n",
    "    lines = open(\"book.txt\", \"a\")\n",
    "    lines.write(\"\\n\" + bookname + \" - \" + authname + \" - \" + str(pubdate))\n",
    "    lines.close()\n",
    "    file = open(\"book.txt\" , \"r\")\n",
    "    content = file.read()\n",
    "    file.close()\n",
    "    print(content)\n",
    "addbook()"
   ]
  },
  {
   "cell_type": "code",
   "execution_count": 193,
   "metadata": {},
   "outputs": [
    {
     "name": "stdout",
     "output_type": "stream",
     "text": [
      "Author Name: jane\n",
      "Pride and Prejudice - Jane Austen\n",
      "\n"
     ]
    }
   ],
   "source": [
    "def authbook():\n",
    "    author = input(\"Author Name: \").title()\n",
    "    a = open(\"book.txt\" , \"r\")\n",
    "    for b in a:\n",
    "        if author in b:\n",
    "            print(b)\n",
    "authbook()"
   ]
  },
  {
   "cell_type": "code",
   "execution_count": 236,
   "metadata": {},
   "outputs": [],
   "source": [
    "def addpub():\n",
    "    book = input(\"Book Name: \").title()\n",
    "    pubdate = int(input(\"Publication Year: \"))\n",
    "    a = open(\"book.txt\" , \"r\")\n",
    "    for b in a:\n",
    "        if book in b:\n",
    "            c = open(\"book1.txt\" , \"a\")\n",
    "            c.write(b + \"\\nPublication Date: \" + str(pubdate) + \"\\n\")\n",
    "addpub()"
   ]
  },
  {
   "cell_type": "code",
   "execution_count": 1,
   "metadata": {},
   "outputs": [],
   "source": [
    "students = [\"john\" , \"kevin\" , \"harry\" , \"jack\" , \"tim\"]"
   ]
  },
  {
   "cell_type": "code",
   "execution_count": 11,
   "metadata": {},
   "outputs": [],
   "source": [
    "def findinlist(listname , item):\n",
    "    try:\n",
    "        return listname.index(item)\n",
    "    except ValueError:\n",
    "        return \"No Name Found\""
   ]
  },
  {
   "cell_type": "code",
   "execution_count": 12,
   "metadata": {},
   "outputs": [
    {
     "data": {
      "text/plain": [
       "0"
      ]
     },
     "execution_count": 12,
     "metadata": {},
     "output_type": "execute_result"
    }
   ],
   "source": [
    "findinlist(students , \"john\")"
   ]
  },
  {
   "cell_type": "code",
   "execution_count": 18,
   "metadata": {},
   "outputs": [],
   "source": [
    "numbers = [1,3,5,7,4,2,9,10,3,2,8]"
   ]
  },
  {
   "cell_type": "code",
   "execution_count": 21,
   "metadata": {},
   "outputs": [
    {
     "data": {
      "text/plain": [
       "[1, 2, 2, 3, 3, 4, 5, 7, 8, 9, 10]"
      ]
     },
     "execution_count": 21,
     "metadata": {},
     "output_type": "execute_result"
    }
   ],
   "source": [
    "numbers"
   ]
  },
  {
   "cell_type": "code",
   "execution_count": 22,
   "metadata": {},
   "outputs": [],
   "source": [
    "students.sort()"
   ]
  },
  {
   "cell_type": "code",
   "execution_count": 23,
   "metadata": {},
   "outputs": [
    {
     "data": {
      "text/plain": [
       "['harry', 'jack', 'john', 'kevin', 'tim']"
      ]
     },
     "execution_count": 23,
     "metadata": {},
     "output_type": "execute_result"
    }
   ],
   "source": [
    "students"
   ]
  },
  {
   "cell_type": "code",
   "execution_count": 24,
   "metadata": {},
   "outputs": [],
   "source": [
    "def sorting(anylist):\n",
    "    anylist.sort()\n",
    "    return anylist"
   ]
  },
  {
   "cell_type": "code",
   "execution_count": 25,
   "metadata": {},
   "outputs": [
    {
     "data": {
      "text/plain": [
       "['harry', 'jack', 'john', 'kevin', 'tim']"
      ]
     },
     "execution_count": 25,
     "metadata": {},
     "output_type": "execute_result"
    }
   ],
   "source": [
    "sorting(students)"
   ]
  },
  {
   "cell_type": "code",
   "execution_count": null,
   "metadata": {},
   "outputs": [],
   "source": []
  }
 ],
 "metadata": {
  "kernelspec": {
   "display_name": "Python 3",
   "language": "python",
   "name": "python3"
  },
  "language_info": {
   "codemirror_mode": {
    "name": "ipython",
    "version": 3
   },
   "file_extension": ".py",
   "mimetype": "text/x-python",
   "name": "python",
   "nbconvert_exporter": "python",
   "pygments_lexer": "ipython3",
   "version": "3.7.6"
  }
 },
 "nbformat": 4,
 "nbformat_minor": 4
}
